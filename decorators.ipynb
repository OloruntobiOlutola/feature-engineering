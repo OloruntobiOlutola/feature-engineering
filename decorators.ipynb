{
 "cells": [
  {
   "cell_type": "code",
   "execution_count": 2,
   "id": "17b235b9",
   "metadata": {},
   "outputs": [
    {
     "data": {
      "text/plain": [
       "'Welcome to the world of Generators!'"
      ]
     },
     "execution_count": 2,
     "metadata": {},
     "output_type": "execute_result"
    }
   ],
   "source": [
    "def welcome():\n",
    "    return \"Welcome to the world of Generators!\"\n",
    "\n",
    "welcome()"
   ]
  },
  {
   "cell_type": "code",
   "execution_count": 6,
   "id": "00f6a9e5",
   "metadata": {},
   "outputs": [
    {
     "name": "stdout",
     "output_type": "stream",
     "text": [
      "Welcome to the world of Generators!\n"
     ]
    }
   ],
   "source": [
    "well = welcome\n",
    "print(well())"
   ]
  },
  {
   "cell_type": "code",
   "execution_count": 7,
   "id": "c121c62b",
   "metadata": {},
   "outputs": [
    {
     "name": "stdout",
     "output_type": "stream",
     "text": [
      "Welcome to the world of Generators!\n"
     ]
    }
   ],
   "source": [
    "del welcome\n",
    "print(well())"
   ]
  },
  {
   "cell_type": "code",
   "execution_count": 10,
   "id": "560a71d9",
   "metadata": {},
   "outputs": [],
   "source": [
    "### Closures and Decorators in Python\n",
    "\n",
    "def main_welcome(name):\n",
    "    msg = \"Welcome to the world of Generators, \" + name + \"!\"\n",
    "    def message():\n",
    "        return msg\n",
    "    return message()"
   ]
  },
  {
   "cell_type": "code",
   "execution_count": 11,
   "id": "2223445f",
   "metadata": {},
   "outputs": [
    {
     "data": {
      "text/plain": [
       "'Welcome to the world of Generators, Paul!'"
      ]
     },
     "execution_count": 11,
     "metadata": {},
     "output_type": "execute_result"
    }
   ],
   "source": [
    "main_welcome(\"Paul\")"
   ]
  },
  {
   "cell_type": "code",
   "execution_count": 29,
   "id": "f29d9efb",
   "metadata": {},
   "outputs": [],
   "source": [
    "def math_func(func):\n",
    "    def inner():\n",
    "        print(\"I am going to do some math operation now!\")\n",
    "        func() \n",
    "    return inner"
   ]
  },
  {
   "cell_type": "code",
   "execution_count": 34,
   "id": "0ec75e8e",
   "metadata": {},
   "outputs": [],
   "source": [
    "def my_decorator(func):\n",
    "    def wrapper():\n",
    "        print(\"Before executing the function.\")\n",
    "        func()\n",
    "        print(\"After executing the function.\")\n",
    "    return wrapper"
   ]
  },
  {
   "cell_type": "code",
   "execution_count": 36,
   "id": "aeb5fc3f",
   "metadata": {},
   "outputs": [],
   "source": [
    "@my_decorator\n",
    "def say_hello():\n",
    "    print(\"Hello!\")"
   ]
  },
  {
   "cell_type": "code",
   "execution_count": 37,
   "id": "00949aef",
   "metadata": {},
   "outputs": [
    {
     "name": "stdout",
     "output_type": "stream",
     "text": [
      "Before executing the function.\n",
      "Hello!\n",
      "After executing the function.\n"
     ]
    }
   ],
   "source": [
    "say_hello()"
   ]
  },
  {
   "cell_type": "code",
   "execution_count": 39,
   "id": "c219f5b5",
   "metadata": {},
   "outputs": [],
   "source": [
    "# decorators with arguments\n",
    "\n",
    "def repeat(num_times):\n",
    "    def decorator_repeat(func):\n",
    "        def wrapper(*args, **kwargs):\n",
    "            for _ in range(num_times):\n",
    "                result = func(*args, **kwargs)\n",
    "            return result\n",
    "        return wrapper\n",
    "    return decorator_repeat"
   ]
  },
  {
   "cell_type": "code",
   "execution_count": 40,
   "id": "04cd031d",
   "metadata": {},
   "outputs": [],
   "source": [
    "@repeat(num_times=3)\n",
    "def greet(name):\n",
    "    print(f\"Hello, {name}!\")"
   ]
  },
  {
   "cell_type": "code",
   "execution_count": 41,
   "id": "9c7209d9",
   "metadata": {},
   "outputs": [
    {
     "name": "stdout",
     "output_type": "stream",
     "text": [
      "Hello, Paul!\n",
      "Hello, Paul!\n",
      "Hello, Paul!\n"
     ]
    }
   ],
   "source": [
    "greet(\"Paul\")"
   ]
  },
  {
   "cell_type": "code",
   "execution_count": null,
   "id": "81743e87",
   "metadata": {},
   "outputs": [],
   "source": []
  }
 ],
 "metadata": {
  "kernelspec": {
   "display_name": ".venv (3.13.7)",
   "language": "python",
   "name": "python3"
  },
  "language_info": {
   "codemirror_mode": {
    "name": "ipython",
    "version": 3
   },
   "file_extension": ".py",
   "mimetype": "text/x-python",
   "name": "python",
   "nbconvert_exporter": "python",
   "pygments_lexer": "ipython3",
   "version": "3.13.7"
  }
 },
 "nbformat": 4,
 "nbformat_minor": 5
}
