{
 "cells": [
  {
   "cell_type": "code",
   "execution_count": 2,
   "id": "f2ff6578",
   "metadata": {},
   "outputs": [
    {
     "name": "stdout",
     "output_type": "stream",
     "text": [
      "2\n"
     ]
    }
   ],
   "source": [
    "import sys\n",
    "\n",
    "a = [1, 2, 3]\n",
    "\n",
    "print(sys.getrefcount(a))  # Reference count should be 2 (a and getrefcount argument)"
   ]
  },
  {
   "cell_type": "code",
   "execution_count": 3,
   "id": "e33ca2ac",
   "metadata": {},
   "outputs": [
    {
     "name": "stdout",
     "output_type": "stream",
     "text": [
      "3\n"
     ]
    }
   ],
   "source": [
    "b = a  # Now b references the same list as a\n",
    "\n",
    "print(sys.getrefcount(b)) "
   ]
  },
  {
   "cell_type": "code",
   "execution_count": 4,
   "id": "eb598976",
   "metadata": {},
   "outputs": [],
   "source": [
    "del a  # Decrease reference count by deleting a"
   ]
  },
  {
   "cell_type": "code",
   "execution_count": 5,
   "id": "95d36d43",
   "metadata": {},
   "outputs": [
    {
     "name": "stdout",
     "output_type": "stream",
     "text": [
      "2\n"
     ]
    }
   ],
   "source": [
    "print(sys.getrefcount(b))  # Reference count should be 1 (only b now)"
   ]
  },
  {
   "cell_type": "code",
   "execution_count": 6,
   "id": "f607e8ce",
   "metadata": {},
   "outputs": [],
   "source": [
    "import gc"
   ]
  },
  {
   "cell_type": "code",
   "execution_count": 7,
   "id": "d5436a4d",
   "metadata": {},
   "outputs": [],
   "source": [
    "gc.enable()  # Enable automatic garbage collection"
   ]
  },
  {
   "cell_type": "code",
   "execution_count": 8,
   "id": "cbff87ac",
   "metadata": {},
   "outputs": [
    {
     "data": {
      "text/plain": [
       "49"
      ]
     },
     "execution_count": 8,
     "metadata": {},
     "output_type": "execute_result"
    }
   ],
   "source": [
    "gc.collect()  # Force garbage collection"
   ]
  },
  {
   "cell_type": "code",
   "execution_count": 10,
   "id": "688caccf",
   "metadata": {},
   "outputs": [
    {
     "data": {
      "text/plain": [
       "[{'collections': 70, 'collected': 2081, 'uncollectable': 0},\n",
       " {'collections': 5, 'collected': 49, 'uncollectable': 0},\n",
       " {'collections': 1, 'collected': 49, 'uncollectable': 0}]"
      ]
     },
     "execution_count": 10,
     "metadata": {},
     "output_type": "execute_result"
    }
   ],
   "source": [
    "gc.get_stats()  # Get garbage collection statistics"
   ]
  },
  {
   "cell_type": "code",
   "execution_count": 11,
   "id": "27dab5f7",
   "metadata": {},
   "outputs": [
    {
     "name": "stdout",
     "output_type": "stream",
     "text": [
      "[]\n"
     ]
    }
   ],
   "source": [
    "print(gc.garbage)  # List of unreachable objects found by GC but not collected"
   ]
  },
  {
   "cell_type": "code",
   "execution_count": null,
   "id": "864a7939",
   "metadata": {},
   "outputs": [],
   "source": []
  }
 ],
 "metadata": {
  "kernelspec": {
   "display_name": ".venv (3.13.7)",
   "language": "python",
   "name": "python3"
  },
  "language_info": {
   "codemirror_mode": {
    "name": "ipython",
    "version": 3
   },
   "file_extension": ".py",
   "mimetype": "text/x-python",
   "name": "python",
   "nbconvert_exporter": "python",
   "pygments_lexer": "ipython3",
   "version": "3.13.7"
  }
 },
 "nbformat": 4,
 "nbformat_minor": 5
}
